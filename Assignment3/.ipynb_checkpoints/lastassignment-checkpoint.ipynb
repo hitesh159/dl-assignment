{
 "cells": [
  {
   "cell_type": "markdown",
   "metadata": {},
   "source": [
    "# reading the files"
   ]
  },
  {
   "cell_type": "code",
   "execution_count": 34,
   "metadata": {},
   "outputs": [],
   "source": [
    "import pickle\n",
    "import pandas as pd\n",
    "X = pd.read_pickle('trainX.pickle')\n",
    "y = pd.read_pickle('trainY.pickle')"
   ]
  },
  {
   "cell_type": "code",
   "execution_count": 35,
   "metadata": {},
   "outputs": [
    {
     "name": "stdout",
     "output_type": "stream",
     "text": [
      "(60000, 28, 28)\n",
      "(60000,)\n"
     ]
    }
   ],
   "source": [
    "print(X.shape)\n",
    "print(y.shape)"
   ]
  },
  {
   "cell_type": "code",
   "execution_count": 36,
   "metadata": {},
   "outputs": [],
   "source": [
    "import keras\n",
    "from keras.datasets import mnist\n",
    "from keras.models import Sequential\n",
    "from keras.layers import Dense,Dropout,Flatten,Activation\n",
    "from keras import backend as K"
   ]
  },
  {
   "cell_type": "code",
   "execution_count": 37,
   "metadata": {},
   "outputs": [
    {
     "data": {
      "image/png": "[encoded data removed]",
      "text/plain": [
       "<matplotlib.figure.Figure at 0x25890f37a20>"
      ]
     },
     "metadata": {},
     "output_type": "display_data"
    },
    {
     "name": "stdout",
     "output_type": "stream",
     "text": [
      "(28, 28)\n"
     ]
    }
   ],
   "source": [
    "#Plotting the first image and checking the size of the images\n",
    "import matplotlib.pyplot as plt\n",
    "%matplotlib inline\n",
    "\n",
    "img = X[0]\n",
    "plt.imshow(img)\n",
    "plt.show()\n",
    "print(img.shape)"
   ]
  },
  {
   "cell_type": "code",
   "execution_count": 38,
   "metadata": {},
   "outputs": [],
   "source": [
    "img_rows,img_cols=28,28"
   ]
  },
  {
   "cell_type": "markdown",
   "metadata": {},
   "source": [
    "# Preprocessing"
   ]
  },
  {
   "cell_type": "code",
   "execution_count": 39,
   "metadata": {},
   "outputs": [],
   "source": [
    "from sklearn.model_selection import train_test_split\n",
    "X_train, X_test, y_train, y_test = train_test_split(X, y, test_size=0.2)"
   ]
  },
  {
   "cell_type": "code",
   "execution_count": 40,
   "metadata": {},
   "outputs": [
    {
     "data": {
      "text/plain": [
       "(12000, 28, 28)"
      ]
     },
     "execution_count": 40,
     "metadata": {},
     "output_type": "execute_result"
    }
   ],
   "source": [
    "X_test.shape"
   ]
  },
  {
   "cell_type": "code",
   "execution_count": 41,
   "metadata": {},
   "outputs": [],
   "source": [
    "X_train=X_train.reshape(X_train.shape[0],img_rows,img_cols,1)\n",
    "X_test=X_test.reshape(X_test.shape[0],img_rows,img_cols,1)\n",
    "input_shape=(img_rows,img_cols,1)"
   ]
  },
  {
   "cell_type": "code",
   "execution_count": 42,
   "metadata": {},
   "outputs": [],
   "source": [
    "X_train = X_train.astype('float32')\n",
    "X_train /= 255\n",
    "X_test=X_test.astype('float32')\n",
    "X_test/=255"
   ]
  },
  {
   "cell_type": "code",
   "execution_count": 43,
   "metadata": {},
   "outputs": [],
   "source": [
    "batch_size=120\n",
    "num_classes=10\n",
    "epochs=25"
   ]
  },
  {
   "cell_type": "code",
   "execution_count": 44,
   "metadata": {},
   "outputs": [],
   "source": [
    "y_train = keras.utils.to_categorical(y_train, num_classes)\n",
    "y_test = keras.utils.to_categorical(y_test, num_classes)"
   ]
  },
  {
   "cell_type": "code",
   "execution_count": 45,
   "metadata": {},
   "outputs": [
    {
     "name": "stdout",
     "output_type": "stream",
     "text": [
      "x_train shape  (48000, 28, 28, 1)\n",
      "48000 train samples\n",
      "12000 test samples\n"
     ]
    }
   ],
   "source": [
    "print('x_train shape ', X_train.shape)\n",
    "print(X_train.shape[0], 'train samples')\n",
    "print(X_test.shape[0], 'test samples')"
   ]
  },
  {
   "cell_type": "code",
   "execution_count": 46,
   "metadata": {},
   "outputs": [],
   "source": [
    "X_train=X_train.reshape(48000,784)\n",
    "X_test=X_test.reshape(12000,784)"
   ]
  },
  {
   "cell_type": "markdown",
   "metadata": {},
   "source": [
    "# Building the first model"
   ]
  },
  {
   "cell_type": "code",
   "execution_count": 47,
   "metadata": {},
   "outputs": [
    {
     "name": "stdout",
     "output_type": "stream",
     "text": [
      "_________________________________________________________________\n",
      "Layer (type)                 Output Shape              Param #   \n",
      "=================================================================\n",
      "dense_7 (Dense)              (None, 500)               392500    \n",
      "_________________________________________________________________\n",
      "activation_4 (Activation)    (None, 500)               0         \n",
      "_________________________________________________________________\n",
      "dense_8 (Dense)              (None, 300)               150300    \n",
      "_________________________________________________________________\n",
      "activation_5 (Activation)    (None, 300)               0         \n",
      "_________________________________________________________________\n",
      "dense_9 (Dense)              (None, 10)                3010      \n",
      "_________________________________________________________________\n",
      "activation_6 (Activation)    (None, 10)                0         \n",
      "=================================================================\n",
      "Total params: 545,810\n",
      "Trainable params: 545,810\n",
      "Non-trainable params: 0\n",
      "_________________________________________________________________\n"
     ]
    }
   ],
   "source": [
    "model = Sequential()\n",
    "model.add(Dense(500,input_dim=784),)\n",
    "model.add(Activation('relu'))\n",
    "# model.add(Dropout(0.4))\n",
    "model.add(Dense(300))\n",
    "model.add(Activation('relu'))\n",
    "# model.add(Dropout(0.4))\n",
    "model.add(Dense(10))\n",
    "model.add(Activation('softmax'))\n",
    "model.summary()\n",
    "model.compile(loss=keras.losses.categorical_crossentropy,\n",
    "             optimizer=keras.optimizers.Adadelta(),\n",
    "             metrics = ['accuracy'])"
   ]
  },
  {
   "cell_type": "code",
   "execution_count": 48,
   "metadata": {},
   "outputs": [
    {
     "name": "stdout",
     "output_type": "stream",
     "text": [
      "Train on 48000 samples, validate on 12000 samples\n",
      "Epoch 1/25\n",
      "48000/48000 [==============================] - 9s 183us/step - loss: 0.5902 - acc: 0.7842 - val_loss: 0.4047 - val_acc: 0.8557\n",
      "Epoch 2/25\n",
      "48000/48000 [==============================] - 8s 177us/step - loss: 0.4018 - acc: 0.8509 - val_loss: 0.3810 - val_acc: 0.8616\n",
      "Epoch 3/25\n",
      "48000/48000 [==============================] - 9s 178us/step - loss: 0.3530 - acc: 0.8694 - val_loss: 0.3338 - val_acc: 0.8787\n",
      "Epoch 4/25\n",
      "48000/48000 [==============================] - 9s 179us/step - loss: 0.3239 - acc: 0.8796 - val_loss: 0.3375 - val_acc: 0.8722\n",
      "Epoch 5/25\n",
      "48000/48000 [==============================] - 9s 179us/step - loss: 0.3022 - acc: 0.8859 - val_loss: 0.3295 - val_acc: 0.8781\n",
      "Epoch 6/25\n",
      "48000/48000 [==============================] - 9s 180us/step - loss: 0.2835 - acc: 0.8945 - val_loss: 0.3131 - val_acc: 0.8849\n",
      "Epoch 7/25\n",
      "48000/48000 [==============================] - 9s 180us/step - loss: 0.2696 - acc: 0.8984 - val_loss: 0.3037 - val_acc: 0.8923\n",
      "Epoch 8/25\n",
      "48000/48000 [==============================] - 9s 181us/step - loss: 0.2550 - acc: 0.9039 - val_loss: 0.3164 - val_acc: 0.8891\n",
      "Epoch 9/25\n",
      "48000/48000 [==============================] - 9s 187us/step - loss: 0.2430 - acc: 0.9083 - val_loss: 0.3030 - val_acc: 0.8931\n",
      "Epoch 10/25\n",
      "48000/48000 [==============================] - 9s 183us/step - loss: 0.2306 - acc: 0.9134 - val_loss: 0.3170 - val_acc: 0.8903\n",
      "Epoch 11/25\n",
      "48000/48000 [==============================] - 9s 181us/step - loss: 0.2221 - acc: 0.9173 - val_loss: 0.2944 - val_acc: 0.8949\n",
      "Epoch 12/25\n",
      "48000/48000 [==============================] - 9s 184us/step - loss: 0.2135 - acc: 0.9200 - val_loss: 0.3090 - val_acc: 0.8921\n",
      "Epoch 13/25\n",
      "48000/48000 [==============================] - 10s 204us/step - loss: 0.2035 - acc: 0.9233 - val_loss: 0.3107 - val_acc: 0.8937\n",
      "Epoch 14/25\n",
      "48000/48000 [==============================] - 9s 192us/step - loss: 0.1951 - acc: 0.9251 - val_loss: 0.3084 - val_acc: 0.8971\n",
      "Epoch 15/25\n",
      "48000/48000 [==============================] - 9s 195us/step - loss: 0.1861 - acc: 0.9291 - val_loss: 0.3060 - val_acc: 0.8928\n",
      "Epoch 16/25\n",
      "48000/48000 [==============================] - 9s 180us/step - loss: 0.1808 - acc: 0.9310 - val_loss: 0.2995 - val_acc: 0.8959\n",
      "Epoch 17/25\n",
      "48000/48000 [==============================] - 10s 203us/step - loss: 0.1709 - acc: 0.9350 - val_loss: 0.3118 - val_acc: 0.8930\n",
      "Epoch 18/25\n",
      "48000/48000 [==============================] - 10s 213us/step - loss: 0.1669 - acc: 0.9357 - val_loss: 0.3033 - val_acc: 0.8979\n",
      "Epoch 19/25\n",
      "48000/48000 [==============================] - 10s 199us/step - loss: 0.1586 - acc: 0.9400 - val_loss: 0.3170 - val_acc: 0.9018\n",
      "Epoch 20/25\n",
      "48000/48000 [==============================] - 10s 217us/step - loss: 0.1543 - acc: 0.9400 - val_loss: 0.3131 - val_acc: 0.8973\n",
      "Epoch 21/25\n",
      "48000/48000 [==============================] - 10s 213us/step - loss: 0.1470 - acc: 0.9441 - val_loss: 0.3054 - val_acc: 0.9016\n",
      "Epoch 22/25\n",
      "48000/48000 [==============================] - 10s 205us/step - loss: 0.1408 - acc: 0.9463 - val_loss: 0.3206 - val_acc: 0.9023\n",
      "Epoch 23/25\n",
      "48000/48000 [==============================] - 10s 206us/step - loss: 0.1373 - acc: 0.9480 - val_loss: 0.3589 - val_acc: 0.8862\n",
      "Epoch 24/25\n",
      "48000/48000 [==============================] - 10s 205us/step - loss: 0.1312 - acc: 0.9499 - val_loss: 0.3346 - val_acc: 0.8987\n",
      "Epoch 25/25\n",
      "48000/48000 [==============================] - 10s 210us/step - loss: 0.1268 - acc: 0.9514 - val_loss: 0.3424 - val_acc: 0.8967\n",
      "Test loss: 0.34235476969679196\n",
      "Test accuracy: 0.8966666666666666\n"
     ]
    }
   ],
   "source": [
    "model.fit(X_train,y_train,batch_size=batch_size,epochs=epochs,verbose=1,validation_data=(X_test,y_test))\n",
    "score=model.evaluate(X_test,y_test,verbose=0)\n",
    "print(\"Test loss:\",score[0])\n",
    "print(\"Test accuracy:\",score[1])"
   ]
  },
  {
   "cell_type": "code",
   "execution_count": 49,
   "metadata": {},
   "outputs": [],
   "source": [
    "from sklearn.model_selection import train_test_split\n",
    "X_train, X_test, y_train, y_test = train_test_split(X, y, test_size=0.2)"
   ]
  },
  {
   "cell_type": "code",
   "execution_count": 50,
   "metadata": {},
   "outputs": [],
   "source": [
    "X_train=X_train.reshape(X_train.shape[0],img_rows,img_cols,1)\n",
    "X_test=X_test.reshape(X_test.shape[0],img_rows,img_cols,1)\n",
    "input_shape=(img_rows,img_cols,1)"
   ]
  },
  {
   "cell_type": "code",
   "execution_count": 51,
   "metadata": {},
   "outputs": [],
   "source": [
    "X_train = X_train.astype('float32')\n",
    "X_train /= 255\n",
    "X_test=X_test.astype('float32')\n",
    "X_test/=255"
   ]
  },
  {
   "cell_type": "code",
   "execution_count": 52,
   "metadata": {},
   "outputs": [],
   "source": [
    "y_train = keras.utils.to_categorical(y_train, num_classes)\n",
    "y_test = keras.utils.to_categorical(y_test, num_classes)"
   ]
  },
  {
   "cell_type": "code",
   "execution_count": 53,
   "metadata": {},
   "outputs": [
    {
     "name": "stdout",
     "output_type": "stream",
     "text": [
      "x_train shape  (48000, 28, 28, 1)\n",
      "48000 train samples\n",
      "12000 test samples\n"
     ]
    }
   ],
   "source": [
    "print('x_train shape ', X_train.shape)\n",
    "print(X_train.shape[0], 'train samples')\n",
    "print(X_test.shape[0], 'test samples')"
   ]
  },
  {
   "cell_type": "code",
   "execution_count": 54,
   "metadata": {},
   "outputs": [],
   "source": [
    "from keras.layers import Dense, Flatten, Conv2D, Dropout, MaxPooling2D"
   ]
  },
  {
   "cell_type": "markdown",
   "metadata": {},
   "source": [
    "# Building Cnn"
   ]
  },
  {
   "cell_type": "code",
   "execution_count": 55,
   "metadata": {},
   "outputs": [],
   "source": [
    "# Model\n",
    "model = Sequential()\n",
    "# Add convolution 2D\n",
    "model.add(Conv2D(32, kernel_size=(3, 3),\n",
    "                 activation='relu',\n",
    "                 kernel_initializer='he_normal',\n",
    "                 input_shape=(img_rows, img_cols, 1)))\n",
    "model.add(MaxPooling2D((2, 2)))\n",
    "model.add(Conv2D(64, \n",
    "                 kernel_size=(3, 3), \n",
    "                 activation='relu'))\n",
    "model.add(MaxPooling2D(pool_size=(2, 2)))\n",
    "model.add(Conv2D(128, (3, 3), activation='relu'))\n",
    "model.add(Flatten())\n",
    "model.add(Dense(128, activation='relu'))\n",
    "model.add(Dense(num_classes, activation='softmax'))\n",
    "\n",
    "\n",
    "model.compile(loss=keras.losses.categorical_crossentropy,\n",
    "              optimizer='adam',\n",
    "              metrics=['accuracy'])"
   ]
  },
  {
   "cell_type": "code",
   "execution_count": 56,
   "metadata": {},
   "outputs": [
    {
     "name": "stdout",
     "output_type": "stream",
     "text": [
      "_________________________________________________________________\n",
      "Layer (type)                 Output Shape              Param #   \n",
      "=================================================================\n",
      "conv2d_7 (Conv2D)            (None, 26, 26, 32)        320       \n",
      "_________________________________________________________________\n",
      "max_pooling2d_5 (MaxPooling2 (None, 13, 13, 32)        0         \n",
      "_________________________________________________________________\n",
      "conv2d_8 (Conv2D)            (None, 11, 11, 64)        18496     \n",
      "_________________________________________________________________\n",
      "max_pooling2d_6 (MaxPooling2 (None, 5, 5, 64)          0         \n",
      "_________________________________________________________________\n",
      "conv2d_9 (Conv2D)            (None, 3, 3, 128)         73856     \n",
      "_________________________________________________________________\n",
      "flatten_3 (Flatten)          (None, 1152)              0         \n",
      "_________________________________________________________________\n",
      "dense_10 (Dense)             (None, 128)               147584    \n",
      "_________________________________________________________________\n",
      "dense_11 (Dense)             (None, 10)                1290      \n",
      "=================================================================\n",
      "Total params: 241,546\n",
      "Trainable params: 241,546\n",
      "Non-trainable params: 0\n",
      "_________________________________________________________________\n"
     ]
    }
   ],
   "source": [
    "model.summary()"
   ]
  },
  {
   "cell_type": "code",
   "execution_count": 57,
   "metadata": {
    "scrolled": false
   },
   "outputs": [
    {
     "name": "stdout",
     "output_type": "stream",
     "text": [
      "Train on 48000 samples, validate on 12000 samples\n",
      "Epoch 1/25\n",
      "48000/48000 [==============================] - 49s 1ms/step - loss: 0.5253 - acc: 0.8091 - val_loss: 0.3683 - val_acc: 0.8688\n",
      "Epoch 2/25\n",
      "48000/48000 [==============================] - 50s 1ms/step - loss: 0.3334 - acc: 0.8785 - val_loss: 0.3093 - val_acc: 0.8882\n",
      "Epoch 3/25\n",
      "48000/48000 [==============================] - 55s 1ms/step - loss: 0.2803 - acc: 0.8984 - val_loss: 0.2997 - val_acc: 0.8901\n",
      "Epoch 4/25\n",
      "48000/48000 [==============================] - 54s 1ms/step - loss: 0.2484 - acc: 0.9082 - val_loss: 0.2816 - val_acc: 0.8963\n",
      "Epoch 5/25\n",
      "48000/48000 [==============================] - 53s 1ms/step - loss: 0.2219 - acc: 0.9180 - val_loss: 0.2690 - val_acc: 0.9004\n",
      "Epoch 6/25\n",
      "48000/48000 [==============================] - 50s 1ms/step - loss: 0.1983 - acc: 0.9272 - val_loss: 0.2559 - val_acc: 0.9081\n",
      "Epoch 7/25\n",
      "48000/48000 [==============================] - 55s 1ms/step - loss: 0.1818 - acc: 0.9323 - val_loss: 0.2771 - val_acc: 0.8999\n",
      "Epoch 8/25\n",
      "48000/48000 [==============================] - 52s 1ms/step - loss: 0.1612 - acc: 0.9404 - val_loss: 0.2639 - val_acc: 0.9068\n",
      "Epoch 9/25\n",
      "48000/48000 [==============================] - 52s 1ms/step - loss: 0.1422 - acc: 0.9469 - val_loss: 0.2771 - val_acc: 0.9083\n",
      "Epoch 10/25\n",
      "48000/48000 [==============================] - 50s 1ms/step - loss: 0.1288 - acc: 0.9516 - val_loss: 0.2616 - val_acc: 0.9101\n",
      "Epoch 11/25\n",
      "48000/48000 [==============================] - 53s 1ms/step - loss: 0.1115 - acc: 0.9588 - val_loss: 0.2935 - val_acc: 0.9089\n",
      "Epoch 12/25\n",
      "48000/48000 [==============================] - 53s 1ms/step - loss: 0.1000 - acc: 0.9626 - val_loss: 0.2824 - val_acc: 0.9105\n",
      "Epoch 13/25\n",
      "48000/48000 [==============================] - 50s 1ms/step - loss: 0.0860 - acc: 0.9674 - val_loss: 0.3184 - val_acc: 0.9066\n",
      "Epoch 14/25\n",
      "48000/48000 [==============================] - 50s 1ms/step - loss: 0.0788 - acc: 0.9706 - val_loss: 0.3067 - val_acc: 0.9114\n",
      "Epoch 15/25\n",
      "48000/48000 [==============================] - 51s 1ms/step - loss: 0.0683 - acc: 0.9744 - val_loss: 0.3259 - val_acc: 0.9068\n",
      "Epoch 16/25\n",
      "48000/48000 [==============================] - 51s 1ms/step - loss: 0.0627 - acc: 0.9766 - val_loss: 0.3422 - val_acc: 0.9071\n",
      "Epoch 17/25\n",
      "48000/48000 [==============================] - 50s 1ms/step - loss: 0.0529 - acc: 0.9801 - val_loss: 0.3832 - val_acc: 0.9103\n",
      "Epoch 18/25\n",
      "48000/48000 [==============================] - 51s 1ms/step - loss: 0.0481 - acc: 0.9821 - val_loss: 0.4176 - val_acc: 0.9085\n",
      "Epoch 19/25\n",
      "48000/48000 [==============================] - 51s 1ms/step - loss: 0.0439 - acc: 0.9839 - val_loss: 0.4138 - val_acc: 0.9095\n",
      "Epoch 20/25\n",
      "48000/48000 [==============================] - 51s 1ms/step - loss: 0.0373 - acc: 0.9868 - val_loss: 0.4443 - val_acc: 0.9097\n",
      "Epoch 21/25\n",
      "48000/48000 [==============================] - 56s 1ms/step - loss: 0.0383 - acc: 0.9858 - val_loss: 0.4480 - val_acc: 0.9058\n",
      "Epoch 22/25\n",
      "48000/48000 [==============================] - 54s 1ms/step - loss: 0.0350 - acc: 0.9872 - val_loss: 0.4519 - val_acc: 0.9089\n",
      "Epoch 23/25\n",
      "48000/48000 [==============================] - 53s 1ms/step - loss: 0.0296 - acc: 0.9899 - val_loss: 0.4589 - val_acc: 0.9082\n",
      "Epoch 24/25\n",
      "48000/48000 [==============================] - 51s 1ms/step - loss: 0.0314 - acc: 0.9889 - val_loss: 0.4629 - val_acc: 0.9089\n",
      "Epoch 25/25\n",
      "48000/48000 [==============================] - 55s 1ms/step - loss: 0.0316 - acc: 0.9887 - val_loss: 0.5046 - val_acc: 0.9077\n",
      "Test loss: 0.5045793931282436\n",
      "Test accuracy: 0.9076666666666666\n"
     ]
    }
   ],
   "source": [
    "model.fit(X_train,y_train,batch_size=batch_size,epochs=epochs,verbose=1,validation_data=(X_test,y_test))\n",
    "score=model.evaluate(X_test,y_test,verbose=0)\n",
    "print(\"Test loss:\",score[0])\n",
    "print(\"Test accuracy:\",score[1])"
   ]
  },
  {
   "cell_type": "code",
   "execution_count": 58,
   "metadata": {},
   "outputs": [
    {
     "name": "stdout",
     "output_type": "stream",
     "text": [
      "Test loss: 0.5045793931282436\n",
      "Test accuracy: 0.9076666666666666\n"
     ]
    }
   ],
   "source": [
    "print(\"Test loss:\",score[0])\n",
    "print(\"Test accuracy:\",score[1])"
   ]
  },
  {
   "cell_type": "code",
   "execution_count": 59,
   "metadata": {},
   "outputs": [],
   "source": [
    "test=pd.read_pickle(\"testX.pickle\")"
   ]
  },
  {
   "cell_type": "code",
   "execution_count": 60,
   "metadata": {},
   "outputs": [
    {
     "data": {
      "image/png": "[encoded data removed]",
      "text/plain": [
       "<matplotlib.figure.Figure at 0x2589bea64a8>"
      ]
     },
     "metadata": {},
     "output_type": "display_data"
    }
   ],
   "source": [
    "plt.imshow(test[0])\n",
    "plt.show()"
   ]
  },
  {
   "cell_type": "code",
   "execution_count": 62,
   "metadata": {},
   "outputs": [],
   "source": [
    "X_test=test\n",
    "X_test=X_test.reshape(X_test.shape[0],img_rows,img_cols,1)\n",
    "X_test=X_test.astype('float32')\n",
    "X_test/=255"
   ]
  },
  {
   "cell_type": "code",
   "execution_count": 63,
   "metadata": {},
   "outputs": [
    {
     "data": {
      "text/plain": [
       "(10000, 28, 28, 1)"
      ]
     },
     "execution_count": 63,
     "metadata": {},
     "output_type": "execute_result"
    }
   ],
   "source": [
    "X_test.shape"
   ]
  },
  {
   "cell_type": "code",
   "execution_count": 64,
   "metadata": {},
   "outputs": [
    {
     "data": {
      "text/plain": [
       "array([9, 2, 1, ..., 8, 1, 5], dtype=int64)"
      ]
     },
     "execution_count": 64,
     "metadata": {},
     "output_type": "execute_result"
    }
   ],
   "source": [
    "predictions = model.predict_classes([X_test])\n",
    "predictions"
   ]
  },
  {
   "cell_type": "code",
   "execution_count": 65,
   "metadata": {},
   "outputs": [
    {
     "data": {
      "text/plain": [
       "10000"
      ]
     },
     "execution_count": 65,
     "metadata": {},
     "output_type": "execute_result"
    }
   ],
   "source": [
    "len(predictions)"
   ]
  },
  {
   "cell_type": "code",
   "execution_count": 67,
   "metadata": {},
   "outputs": [
    {
     "data": {
      "text/plain": [
       "array([0, 1, 2, 3, 4, 5, 6, 7, 8, 9], dtype=int64)"
      ]
     },
     "execution_count": 67,
     "metadata": {},
     "output_type": "execute_result"
    }
   ],
   "source": [
    "import numpy as np\n",
    "np.unique(predictions)\n"
   ]
  },
  {
   "cell_type": "code",
   "execution_count": 69,
   "metadata": {},
   "outputs": [],
   "source": [
    "file=open(\"results.pickle\",\"wb\")\n",
    "pickle.dump(predictions, file)"
   ]
  },
  {
   "cell_type": "code",
   "execution_count": 70,
   "metadata": {},
   "outputs": [],
   "source": [
    "t=pd.read_pickle(\"results.pickle\")"
   ]
  },
  {
   "cell_type": "code",
   "execution_count": 72,
   "metadata": {},
   "outputs": [
    {
     "name": "stdout",
     "output_type": "stream",
     "text": [
      "10000\n",
      "10000\n"
     ]
    }
   ],
   "source": [
    "print(len(t))\n",
    "print(len(predictions))"
   ]
  }
 ],
 "metadata": {
  "kernelspec": {
   "display_name": "Python 3",
   "language": "python",
   "name": "python3"
  },
  "language_info": {
   "codemirror_mode": {
    "name": "ipython",
    "version": 3
   },
   "file_extension": ".py",
   "mimetype": "text/x-python",
   "name": "python",
   "nbconvert_exporter": "python",
   "pygments_lexer": "ipython3",
   "version": "3.6.4"
  }
 },
 "nbformat": 4,
 "nbformat_minor": 2
}
