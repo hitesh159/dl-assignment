{
 "cells": [
  {
   "cell_type": "markdown",
   "metadata": {},
   "source": [
    "# reading the files"
   ]
  },
  {
   "cell_type": "code",
   "execution_count": 1,
   "metadata": {},
   "outputs": [],
   "source": [
    "import pickle\n",
    "import pandas as pd\n",
    "X = pd.read_pickle('trainX.pickle')\n",
    "y = pd.read_pickle('trainY.pickle')"
   ]
  },
  {
   "cell_type": "code",
   "execution_count": 2,
   "metadata": {},
   "outputs": [
    {
     "name": "stdout",
     "output_type": "stream",
     "text": [
      "(60000, 28, 28)\n",
      "(60000,)\n"
     ]
    }
   ],
   "source": [
    "print(X.shape)\n",
    "print(y.shape)"
   ]
  },
  {
   "cell_type": "code",
   "execution_count": 3,
   "metadata": {},
   "outputs": [
    {
     "name": "stderr",
     "output_type": "stream",
     "text": [
      "C:\\Users\\hitesh\\Anaconda3\\lib\\site-packages\\h5py\\__init__.py:36: FutureWarning: Conversion of the second argument of issubdtype from `float` to `np.floating` is deprecated. In future, it will be treated as `np.float64 == np.dtype(float).type`.\n",
      "  from ._conv import register_converters as _register_converters\n",
      "Using TensorFlow backend.\n"
     ]
    }
   ],
   "source": [
    "import keras\n",
    "from keras.datasets import mnist\n",
    "from keras.models import Sequential\n",
    "from keras.layers import Dense,Dropout,Flatten,Activation\n",
    "from keras import backend as K"
   ]
  },
  {
   "cell_type": "code",
   "execution_count": 4,
   "metadata": {},
   "outputs": [
    {
     "data": {
      "image/png": "[encoded data removed]",
      "text/plain": [
       "<matplotlib.figure.Figure at 0x23748fc4c18>"
      ]
     },
     "metadata": {},
     "output_type": "display_data"
    },
    {
     "name": "stdout",
     "output_type": "stream",
     "text": [
      "(28, 28)\n"
     ]
    }
   ],
   "source": [
    "#Plotting the first image and checking the size of the images\n",
    "import matplotlib.pyplot as plt\n",
    "%matplotlib inline\n",
    "\n",
    "img = X[0]\n",
    "plt.imshow(img)\n",
    "plt.show()\n",
    "print(img.shape)"
   ]
  },
  {
   "cell_type": "code",
   "execution_count": 5,
   "metadata": {},
   "outputs": [],
   "source": [
    "img_rows,img_cols=28,28"
   ]
  },
  {
   "cell_type": "markdown",
   "metadata": {},
   "source": [
    "# Preprocessing"
   ]
  },
  {
   "cell_type": "code",
   "execution_count": 6,
   "metadata": {},
   "outputs": [],
   "source": [
    "from sklearn.model_selection import train_test_split\n",
    "X_train, X_test, y_train, y_test = train_test_split(X, y, test_size=0.2)"
   ]
  },
  {
   "cell_type": "code",
   "execution_count": 7,
   "metadata": {},
   "outputs": [
    {
     "data": {
      "text/plain": [
       "(12000, 28, 28)"
      ]
     },
     "execution_count": 7,
     "metadata": {},
     "output_type": "execute_result"
    }
   ],
   "source": [
    "X_test.shape"
   ]
  },
  {
   "cell_type": "code",
   "execution_count": 8,
   "metadata": {},
   "outputs": [],
   "source": [
    "X_train=X_train.reshape(X_train.shape[0],img_rows,img_cols,1)\n",
    "X_test=X_test.reshape(X_test.shape[0],img_rows,img_cols,1)\n",
    "input_shape=(img_rows,img_cols,1)"
   ]
  },
  {
   "cell_type": "code",
   "execution_count": 9,
   "metadata": {},
   "outputs": [],
   "source": [
    "X_train = X_train.astype('float32')\n",
    "X_train /= 255\n",
    "X_test=X_test.astype('float32')\n",
    "X_test/=255"
   ]
  },
  {
   "cell_type": "code",
   "execution_count": 10,
   "metadata": {},
   "outputs": [],
   "source": [
    "batch_size=120\n",
    "num_classes=10\n",
    "epochs=25"
   ]
  },
  {
   "cell_type": "code",
   "execution_count": 11,
   "metadata": {},
   "outputs": [],
   "source": [
    "y_train = keras.utils.to_categorical(y_train, num_classes)\n",
    "y_test = keras.utils.to_categorical(y_test, num_classes)"
   ]
  },
  {
   "cell_type": "code",
   "execution_count": 12,
   "metadata": {},
   "outputs": [
    {
     "name": "stdout",
     "output_type": "stream",
     "text": [
      "x_train shape  (48000, 28, 28, 1)\n",
      "48000 train samples\n",
      "12000 test samples\n"
     ]
    }
   ],
   "source": [
    "print('x_train shape ', X_train.shape)\n",
    "print(X_train.shape[0], 'train samples')\n",
    "print(X_test.shape[0], 'test samples')"
   ]
  },
  {
   "cell_type": "code",
   "execution_count": 13,
   "metadata": {},
   "outputs": [],
   "source": [
    "X_train=X_train.reshape(48000,784)\n",
    "X_test=X_test.reshape(12000,784)"
   ]
  },
  {
   "cell_type": "markdown",
   "metadata": {},
   "source": [
    "# Building the first model"
   ]
  },
  {
   "cell_type": "code",
   "execution_count": 14,
   "metadata": {},
   "outputs": [
    {
     "name": "stdout",
     "output_type": "stream",
     "text": [
      "_________________________________________________________________\n",
      "Layer (type)                 Output Shape              Param #   \n",
      "=================================================================\n",
      "dense_1 (Dense)              (None, 500)               392500    \n",
      "_________________________________________________________________\n",
      "activation_1 (Activation)    (None, 500)               0         \n",
      "_________________________________________________________________\n",
      "dense_2 (Dense)              (None, 300)               150300    \n",
      "_________________________________________________________________\n",
      "activation_2 (Activation)    (None, 300)               0         \n",
      "_________________________________________________________________\n",
      "dense_3 (Dense)              (None, 10)                3010      \n",
      "_________________________________________________________________\n",
      "activation_3 (Activation)    (None, 10)                0         \n",
      "=================================================================\n",
      "Total params: 545,810\n",
      "Trainable params: 545,810\n",
      "Non-trainable params: 0\n",
      "_________________________________________________________________\n"
     ]
    }
   ],
   "source": [
    "model = Sequential()\n",
    "model.add(Dense(500,input_dim=784),)\n",
    "model.add(Activation('relu'))\n",
    "# model.add(Dropout(0.4))\n",
    "model.add(Dense(300))\n",
    "model.add(Activation('relu'))\n",
    "# model.add(Dropout(0.4))\n",
    "model.add(Dense(10))\n",
    "model.add(Activation('softmax'))\n",
    "model.summary()\n",
    "model.compile(loss=keras.losses.categorical_crossentropy,\n",
    "             optimizer=keras.optimizers.Adadelta(),\n",
    "             metrics = ['accuracy'])"
   ]
  },
  {
   "cell_type": "code",
   "execution_count": 15,
   "metadata": {},
   "outputs": [
    {
     "name": "stdout",
     "output_type": "stream",
     "text": [
      "Train on 48000 samples, validate on 12000 samples\n",
      "Epoch 1/25\n",
      "48000/48000 [==============================] - 11s 230us/step - loss: 0.5875 - acc: 0.7854 - val_loss: 0.4237 - val_acc: 0.8441\n",
      "Epoch 2/25\n",
      "48000/48000 [==============================] - 10s 199us/step - loss: 0.3992 - acc: 0.8513 - val_loss: 0.3629 - val_acc: 0.8715\n",
      "Epoch 3/25\n",
      "48000/48000 [==============================] - 10s 208us/step - loss: 0.3522 - acc: 0.8695 - val_loss: 0.3470 - val_acc: 0.8736\n",
      "Epoch 4/25\n",
      "48000/48000 [==============================] - 10s 218us/step - loss: 0.3206 - acc: 0.8823 - val_loss: 0.3587 - val_acc: 0.8717\n",
      "Epoch 5/25\n",
      "48000/48000 [==============================] - 10s 214us/step - loss: 0.2988 - acc: 0.8889 - val_loss: 0.3491 - val_acc: 0.8755\n",
      "Epoch 6/25\n",
      "48000/48000 [==============================] - 9s 195us/step - loss: 0.2827 - acc: 0.8940 - val_loss: 0.3164 - val_acc: 0.8809\n",
      "Epoch 7/25\n",
      "48000/48000 [==============================] - 9s 196us/step - loss: 0.2679 - acc: 0.8988 - val_loss: 0.3145 - val_acc: 0.8859\n",
      "Epoch 8/25\n",
      "48000/48000 [==============================] - 9s 197us/step - loss: 0.2520 - acc: 0.9060 - val_loss: 0.3003 - val_acc: 0.8900\n",
      "Epoch 9/25\n",
      "48000/48000 [==============================] - 11s 227us/step - loss: 0.2428 - acc: 0.9080 - val_loss: 0.3146 - val_acc: 0.8860\n",
      "Epoch 10/25\n",
      "48000/48000 [==============================] - 11s 219us/step - loss: 0.2313 - acc: 0.9126 - val_loss: 0.2912 - val_acc: 0.8943\n",
      "Epoch 11/25\n",
      "48000/48000 [==============================] - 12s 253us/step - loss: 0.2204 - acc: 0.9168 - val_loss: 0.2914 - val_acc: 0.8965\n",
      "Epoch 12/25\n",
      "48000/48000 [==============================] - 11s 222us/step - loss: 0.2112 - acc: 0.9210 - val_loss: 0.3330 - val_acc: 0.8851\n",
      "Epoch 13/25\n",
      "48000/48000 [==============================] - 10s 203us/step - loss: 0.2022 - acc: 0.9240 - val_loss: 0.3516 - val_acc: 0.8783\n",
      "Epoch 14/25\n",
      "48000/48000 [==============================] - 10s 202us/step - loss: 0.1952 - acc: 0.9263 - val_loss: 0.3197 - val_acc: 0.8882\n",
      "Epoch 15/25\n",
      "48000/48000 [==============================] - 9s 196us/step - loss: 0.1878 - acc: 0.9288 - val_loss: 0.3096 - val_acc: 0.8909\n",
      "Epoch 16/25\n",
      "48000/48000 [==============================] - 9s 196us/step - loss: 0.1780 - acc: 0.9322 - val_loss: 0.3078 - val_acc: 0.8948\n",
      "Epoch 17/25\n",
      "48000/48000 [==============================] - 10s 212us/step - loss: 0.1736 - acc: 0.9332 - val_loss: 0.3151 - val_acc: 0.8923\n",
      "Epoch 18/25\n",
      "48000/48000 [==============================] - 10s 217us/step - loss: 0.1619 - acc: 0.9386 - val_loss: 0.3276 - val_acc: 0.8903\n",
      "Epoch 19/25\n",
      "48000/48000 [==============================] - 11s 238us/step - loss: 0.1580 - acc: 0.9403 - val_loss: 0.3259 - val_acc: 0.8937\n",
      "Epoch 20/25\n",
      "48000/48000 [==============================] - 12s 250us/step - loss: 0.1523 - acc: 0.9425 - val_loss: 0.3395 - val_acc: 0.8917\n",
      "Epoch 21/25\n",
      "48000/48000 [==============================] - 11s 239us/step - loss: 0.1460 - acc: 0.9454 - val_loss: 0.3303 - val_acc: 0.8959\n",
      "Epoch 22/25\n",
      "48000/48000 [==============================] - 12s 245us/step - loss: 0.1419 - acc: 0.9459 - val_loss: 0.3321 - val_acc: 0.8921\n",
      "Epoch 23/25\n",
      "48000/48000 [==============================] - 12s 243us/step - loss: 0.1350 - acc: 0.9484 - val_loss: 0.3521 - val_acc: 0.8935\n",
      "Epoch 24/25\n",
      "48000/48000 [==============================] - 12s 240us/step - loss: 0.1325 - acc: 0.9494 - val_loss: 0.3451 - val_acc: 0.8990\n",
      "Epoch 25/25\n",
      "48000/48000 [==============================] - 12s 243us/step - loss: 0.1250 - acc: 0.9521 - val_loss: 0.3457 - val_acc: 0.8957\n",
      "Test loss: 0.34567912749946117\n",
      "Test accuracy: 0.8956666666666667\n"
     ]
    }
   ],
   "source": [
    "model.fit(X_train,y_train,batch_size=batch_size,epochs=epochs,verbose=1,validation_data=(X_test,y_test))\n",
    "score=model.evaluate(X_test,y_test,verbose=0)\n",
    "print(\"Test loss:\",score[0])\n",
    "print(\"Test accuracy:\",score[1])"
   ]
  },
  {
   "cell_type": "code",
   "execution_count": 16,
   "metadata": {},
   "outputs": [],
   "source": [
    "from sklearn.model_selection import train_test_split\n",
    "X_train, X_test, y_train, y_test = train_test_split(X, y, test_size=0.2)"
   ]
  },
  {
   "cell_type": "code",
   "execution_count": 17,
   "metadata": {},
   "outputs": [],
   "source": [
    "X_train=X_train.reshape(X_train.shape[0],img_rows,img_cols,1)\n",
    "X_test=X_test.reshape(X_test.shape[0],img_rows,img_cols,1)\n",
    "input_shape=(img_rows,img_cols,1)"
   ]
  },
  {
   "cell_type": "code",
   "execution_count": 18,
   "metadata": {},
   "outputs": [],
   "source": [
    "X_train = X_train.astype('float32')\n",
    "X_train /= 255\n",
    "X_test=X_test.astype('float32')\n",
    "X_test/=255"
   ]
  },
  {
   "cell_type": "code",
   "execution_count": 19,
   "metadata": {},
   "outputs": [],
   "source": [
    "y_train = keras.utils.to_categorical(y_train, num_classes)\n",
    "y_test = keras.utils.to_categorical(y_test, num_classes)"
   ]
  },
  {
   "cell_type": "code",
   "execution_count": 20,
   "metadata": {},
   "outputs": [
    {
     "name": "stdout",
     "output_type": "stream",
     "text": [
      "x_train shape  (48000, 28, 28, 1)\n",
      "48000 train samples\n",
      "12000 test samples\n"
     ]
    }
   ],
   "source": [
    "print('x_train shape ', X_train.shape)\n",
    "print(X_train.shape[0], 'train samples')\n",
    "print(X_test.shape[0], 'test samples')"
   ]
  },
  {
   "cell_type": "code",
   "execution_count": 21,
   "metadata": {},
   "outputs": [],
   "source": [
    "from keras.layers import Dense, Flatten, Conv2D, Dropout, MaxPooling2D"
   ]
  },
  {
   "cell_type": "markdown",
   "metadata": {},
   "source": [
    "# Building Cnn"
   ]
  },
  {
   "cell_type": "code",
   "execution_count": 22,
   "metadata": {},
   "outputs": [],
   "source": [
    "# Model\n",
    "model = Sequential()\n",
    "# Add convolution 2D\n",
    "model.add(Conv2D(32, kernel_size=(3, 3),\n",
    "                 activation='relu',\n",
    "                 kernel_initializer='he_normal',\n",
    "                 input_shape=(img_rows, img_cols, 1)))\n",
    "model.add(MaxPooling2D((2, 2)))\n",
    "model.add(Conv2D(64, \n",
    "                 kernel_size=(3, 3), \n",
    "                 activation='relu'))\n",
    "model.add(MaxPooling2D(pool_size=(2, 2)))\n",
    "model.add(Conv2D(128, (3, 3), activation='relu'))\n",
    "model.add(Flatten())\n",
    "model.add(Dense(128, activation='relu'))\n",
    "model.add(Dense(num_classes, activation='softmax'))\n",
    "\n",
    "\n",
    "model.compile(loss=keras.losses.categorical_crossentropy,\n",
    "              optimizer='adam',\n",
    "              metrics=['accuracy'])"
   ]
  },
  {
   "cell_type": "code",
   "execution_count": 23,
   "metadata": {},
   "outputs": [
    {
     "name": "stdout",
     "output_type": "stream",
     "text": [
      "_________________________________________________________________\n",
      "Layer (type)                 Output Shape              Param #   \n",
      "=================================================================\n",
      "conv2d_1 (Conv2D)            (None, 26, 26, 32)        320       \n",
      "_________________________________________________________________\n",
      "max_pooling2d_1 (MaxPooling2 (None, 13, 13, 32)        0         \n",
      "_________________________________________________________________\n",
      "conv2d_2 (Conv2D)            (None, 11, 11, 64)        18496     \n",
      "_________________________________________________________________\n",
      "max_pooling2d_2 (MaxPooling2 (None, 5, 5, 64)          0         \n",
      "_________________________________________________________________\n",
      "conv2d_3 (Conv2D)            (None, 3, 3, 128)         73856     \n",
      "_________________________________________________________________\n",
      "flatten_1 (Flatten)          (None, 1152)              0         \n",
      "_________________________________________________________________\n",
      "dense_4 (Dense)              (None, 128)               147584    \n",
      "_________________________________________________________________\n",
      "dense_5 (Dense)              (None, 10)                1290      \n",
      "=================================================================\n",
      "Total params: 241,546\n",
      "Trainable params: 241,546\n",
      "Non-trainable params: 0\n",
      "_________________________________________________________________\n"
     ]
    }
   ],
   "source": [
    "model.summary()"
   ]
  },
  {
   "cell_type": "code",
   "execution_count": 24,
   "metadata": {
    "scrolled": false
   },
   "outputs": [
    {
     "name": "stdout",
     "output_type": "stream",
     "text": [
      "Train on 48000 samples, validate on 12000 samples\n",
      "Epoch 1/15\n",
      "48000/48000 [==============================] - 65s 1ms/step - loss: 0.5409 - acc: 0.8027 - val_loss: 0.3648 - val_acc: 0.8683\n",
      "Epoch 2/15\n",
      "48000/48000 [==============================] - 64s 1ms/step - loss: 0.3460 - acc: 0.8721 - val_loss: 0.3111 - val_acc: 0.8875\n",
      "Epoch 3/15\n",
      "48000/48000 [==============================] - 71s 1ms/step - loss: 0.2953 - acc: 0.8920 - val_loss: 0.2929 - val_acc: 0.8903\n",
      "Epoch 4/15\n",
      "48000/48000 [==============================] - 67s 1ms/step - loss: 0.2608 - acc: 0.9053 - val_loss: 0.2651 - val_acc: 0.9055\n",
      "Epoch 5/15\n",
      "48000/48000 [==============================] - 70s 1ms/step - loss: 0.2340 - acc: 0.9144 - val_loss: 0.2570 - val_acc: 0.9079\n",
      "Epoch 6/15\n",
      "48000/48000 [==============================] - 73s 2ms/step - loss: 0.2108 - acc: 0.9234 - val_loss: 0.2649 - val_acc: 0.9012\n",
      "Epoch 7/15\n",
      "48000/48000 [==============================] - 74s 2ms/step - loss: 0.1898 - acc: 0.9300 - val_loss: 0.2662 - val_acc: 0.9060\n",
      "Epoch 8/15\n",
      "48000/48000 [==============================] - 65s 1ms/step - loss: 0.1733 - acc: 0.9359 - val_loss: 0.2499 - val_acc: 0.9146\n",
      "Epoch 9/15\n",
      "48000/48000 [==============================] - 61s 1ms/step - loss: 0.1537 - acc: 0.9433 - val_loss: 0.2522 - val_acc: 0.9144\n",
      "Epoch 10/15\n",
      "48000/48000 [==============================] - 63s 1ms/step - loss: 0.1362 - acc: 0.9496 - val_loss: 0.2701 - val_acc: 0.9115\n",
      "Epoch 11/15\n",
      "48000/48000 [==============================] - 66s 1ms/step - loss: 0.1214 - acc: 0.9549 - val_loss: 0.2711 - val_acc: 0.9103\n",
      "Epoch 12/15\n",
      "48000/48000 [==============================] - 64s 1ms/step - loss: 0.1098 - acc: 0.9583 - val_loss: 0.2620 - val_acc: 0.9155\n",
      "Epoch 13/15\n",
      "48000/48000 [==============================] - 73s 2ms/step - loss: 0.0957 - acc: 0.9641 - val_loss: 0.2918 - val_acc: 0.9124\n",
      "Epoch 14/15\n",
      "48000/48000 [==============================] - 70s 1ms/step - loss: 0.0854 - acc: 0.9687 - val_loss: 0.2912 - val_acc: 0.9166\n",
      "Epoch 15/15\n",
      "48000/48000 [==============================] - 68s 1ms/step - loss: 0.0743 - acc: 0.9724 - val_loss: 0.3177 - val_acc: 0.9138\n",
      "Test loss: 0.3177271511927247\n",
      "Test accuracy: 0.91375\n"
     ]
    }
   ],
   "source": [
    "model.fit(X_train,y_train,batch_size=batch_size,epochs=15,verbose=1,validation_data=(X_test,y_test))\n",
    "score=model.evaluate(X_test,y_test,verbose=0)\n",
    "print(\"Test loss:\",score[0])\n",
    "print(\"Test accuracy:\",score[1])"
   ]
  },
  {
   "cell_type": "code",
   "execution_count": 25,
   "metadata": {},
   "outputs": [
    {
     "name": "stdout",
     "output_type": "stream",
     "text": [
      "Test loss: 0.3177271511927247\n",
      "Test accuracy: 0.91375\n"
     ]
    }
   ],
   "source": [
    "print(\"Test loss:\",score[0])\n",
    "print(\"Test accuracy:\",score[1])"
   ]
  },
  {
   "cell_type": "code",
   "execution_count": 26,
   "metadata": {},
   "outputs": [],
   "source": [
    "test=pd.read_pickle(\"testX.pickle\")"
   ]
  },
  {
   "cell_type": "code",
   "execution_count": 60,
   "metadata": {},
   "outputs": [
    {
     "data": {
      "image/png": "[encoded data removed]",
      "text/plain": [
       "<matplotlib.figure.Figure at 0x2589bea64a8>"
      ]
     },
     "metadata": {},
     "output_type": "display_data"
    }
   ],
   "source": [
    "plt.imshow(test[0])\n",
    "plt.show()"
   ]
  },
  {
   "cell_type": "code",
   "execution_count": 62,
   "metadata": {},
   "outputs": [],
   "source": [
    "X_test=test\n",
    "X_test=X_test.reshape(X_test.shape[0],img_rows,img_cols,1)\n",
    "X_test=X_test.astype('float32')\n",
    "X_test/=255"
   ]
  },
  {
   "cell_type": "code",
   "execution_count": 63,
   "metadata": {},
   "outputs": [
    {
     "data": {
      "text/plain": [
       "(10000, 28, 28, 1)"
      ]
     },
     "execution_count": 63,
     "metadata": {},
     "output_type": "execute_result"
    }
   ],
   "source": [
    "X_test.shape"
   ]
  },
  {
   "cell_type": "code",
   "execution_count": 64,
   "metadata": {},
   "outputs": [
    {
     "data": {
      "text/plain": [
       "array([9, 2, 1, ..., 8, 1, 5], dtype=int64)"
      ]
     },
     "execution_count": 64,
     "metadata": {},
     "output_type": "execute_result"
    }
   ],
   "source": [
    "predictions = model.predict_classes([X_test])\n",
    "predictions"
   ]
  },
  {
   "cell_type": "code",
   "execution_count": 65,
   "metadata": {},
   "outputs": [
    {
     "data": {
      "text/plain": [
       "10000"
      ]
     },
     "execution_count": 65,
     "metadata": {},
     "output_type": "execute_result"
    }
   ],
   "source": [
    "len(predictions)"
   ]
  },
  {
   "cell_type": "code",
   "execution_count": 67,
   "metadata": {},
   "outputs": [
    {
     "data": {
      "text/plain": [
       "array([0, 1, 2, 3, 4, 5, 6, 7, 8, 9], dtype=int64)"
      ]
     },
     "execution_count": 67,
     "metadata": {},
     "output_type": "execute_result"
    }
   ],
   "source": [
    "import numpy as np\n",
    "np.unique(predictions)\n"
   ]
  },
  {
   "cell_type": "code",
   "execution_count": 69,
   "metadata": {},
   "outputs": [],
   "source": [
    "file=open(\"results.pickle\",\"wb\")\n",
    "pickle.dump(predictions, file)"
   ]
  },
  {
   "cell_type": "code",
   "execution_count": 70,
   "metadata": {},
   "outputs": [],
   "source": [
    "t=pd.read_pickle(\"results.pickle\")"
   ]
  },
  {
   "cell_type": "code",
   "execution_count": 72,
   "metadata": {},
   "outputs": [
    {
     "name": "stdout",
     "output_type": "stream",
     "text": [
      "10000\n",
      "10000\n"
     ]
    }
   ],
   "source": [
    "print(len(t))\n",
    "print(len(predictions))"
   ]
  }
 ],
 "metadata": {
  "kernelspec": {
   "display_name": "Python 3",
   "language": "python",
   "name": "python3"
  },
  "language_info": {
   "codemirror_mode": {
    "name": "ipython",
    "version": 3
   },
   "file_extension": ".py",
   "mimetype": "text/x-python",
   "name": "python",
   "nbconvert_exporter": "python",
   "pygments_lexer": "ipython3",
   "version": "3.6.4"
  }
 },
 "nbformat": 4,
 "nbformat_minor": 2
}
